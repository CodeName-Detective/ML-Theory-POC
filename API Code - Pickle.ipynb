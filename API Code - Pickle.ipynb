{
 "cells": [
  {
   "cell_type": "code",
   "execution_count": null,
   "metadata": {},
   "outputs": [],
   "source": [
    "import pickle\n",
    "\n",
    "from flask import Flask\n",
    "\n",
    "pickle.dump(decision_tree,open('decision_tree_pickle','wb'))\n",
    "\n",
    "\n",
    "from flask import Flask,request,jsonify\n",
    "\n",
    "import pickle\n",
    "import json\n",
    "\n",
    "\n",
    "app = Flask(__name__)\n",
    "\n",
    "\n",
    "@app.route('/diabetes_prediction_api', methods=['POST'])\n",
    "def makepred():\n",
    "    data = request.get_json()\n",
    "    prediction = np.array2string(model.predict(data))\n",
    "\n",
    "    return jsonify(prediction)\n",
    "\n",
    "if __name__ == '__main__':\n",
    "    model = pickle.load(open('decision_tree_pickle', 'rb'))\n",
    "    app.run(debug=True, host='127.0.0.1:5000',use_reloader=False)"
   ]
  }
 ],
 "metadata": {
  "kernelspec": {
   "display_name": "Python 3",
   "language": "python",
   "name": "python3"
  },
  "language_info": {
   "codemirror_mode": {
    "name": "ipython",
    "version": 3
   },
   "file_extension": ".py",
   "mimetype": "text/x-python",
   "name": "python",
   "nbconvert_exporter": "python",
   "pygments_lexer": "ipython3",
   "version": "3.7.3"
  }
 },
 "nbformat": 4,
 "nbformat_minor": 2
}
