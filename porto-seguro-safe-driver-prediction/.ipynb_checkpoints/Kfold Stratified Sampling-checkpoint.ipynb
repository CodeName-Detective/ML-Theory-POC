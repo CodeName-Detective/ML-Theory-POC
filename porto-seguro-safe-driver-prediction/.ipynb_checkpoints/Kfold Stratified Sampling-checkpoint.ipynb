{
 "cells": [
  {
   "cell_type": "code",
   "execution_count": 10,
   "metadata": {},
   "outputs": [],
   "source": [
    "import pandas as pd"
   ]
  },
  {
   "cell_type": "code",
   "execution_count": 11,
   "metadata": {},
   "outputs": [],
   "source": [
    "df = pd.read_csv(\"train.csv\")"
   ]
  },
  {
   "cell_type": "code",
   "execution_count": 12,
   "metadata": {},
   "outputs": [],
   "source": [
    "target = df.pop('target')"
   ]
  },
  {
   "cell_type": "code",
   "execution_count": 13,
   "metadata": {},
   "outputs": [
    {
     "data": {
      "text/plain": [
       "0    573518\n",
       "1     21694\n",
       "Name: target, dtype: int64"
      ]
     },
     "execution_count": 13,
     "metadata": {},
     "output_type": "execute_result"
    }
   ],
   "source": [
    "target.value_counts()"
   ]
  },
  {
   "cell_type": "code",
   "execution_count": 14,
   "metadata": {},
   "outputs": [],
   "source": [
    "from sklearn.model_selection import StratifiedKFold"
   ]
  },
  {
   "cell_type": "code",
   "execution_count": 34,
   "metadata": {},
   "outputs": [],
   "source": [
    "skf = StratifiedKFold(n_splits=3, shuffle=True, random_state=17)"
   ]
  },
  {
   "cell_type": "code",
   "execution_count": 47,
   "metadata": {},
   "outputs": [],
   "source": [
    " = skf.split(df,target)"
   ]
  },
  {
   "cell_type": "code",
   "execution_count": 48,
   "metadata": {},
   "outputs": [
    {
     "data": {
      "text/plain": [
       "((array([     0,      4,      6, ..., 595208, 595210, 595211]),\n",
       "  array([     1,      2,      3, ..., 595202, 595204, 595209])),\n",
       " (array([     1,      2,      3, ..., 595208, 595209, 595210]),\n",
       "  array([     0,      4,      7, ..., 595206, 595207, 595211])),\n",
       " (array([     0,      1,      2, ..., 595207, 595209, 595211]),\n",
       "  array([     6,     11,     12, ..., 595203, 595208, 595210])))"
      ]
     },
     "execution_count": 48,
     "metadata": {},
     "output_type": "execute_result"
    }
   ],
   "source": [
    "fold1, fold2, fold3"
   ]
  },
  {
   "cell_type": "code",
   "execution_count": 49,
   "metadata": {},
   "outputs": [
    {
     "name": "stdout",
     "output_type": "stream",
     "text": [
      "[     0      4      6 ... 595208 595210 595211]\n",
      "[     1      2      3 ... 595202 595204 595209]\n",
      "**************\n",
      "[     1      2      3 ... 595208 595209 595210]\n",
      "[     0      4      7 ... 595206 595207 595211]\n",
      "**************\n",
      "[     0      1      2 ... 595207 595209 595211]\n",
      "[     6     11     12 ... 595203 595208 595210]\n",
      "**************\n"
     ]
    }
   ],
   "source": [
    "for train_index, val_index in skf.split(df,target):\n",
    "    print(train_index)\n",
    "    print(val_index)\n",
    "    print('**************')"
   ]
  },
  {
   "cell_type": "code",
   "execution_count": null,
   "metadata": {},
   "outputs": [],
   "source": []
  }
 ],
 "metadata": {
  "kernelspec": {
   "display_name": "Python 3",
   "language": "python",
   "name": "python3"
  },
  "language_info": {
   "codemirror_mode": {
    "name": "ipython",
    "version": 3
   },
   "file_extension": ".py",
   "mimetype": "text/x-python",
   "name": "python",
   "nbconvert_exporter": "python",
   "pygments_lexer": "ipython3",
   "version": "3.7.6"
  }
 },
 "nbformat": 4,
 "nbformat_minor": 4
}
