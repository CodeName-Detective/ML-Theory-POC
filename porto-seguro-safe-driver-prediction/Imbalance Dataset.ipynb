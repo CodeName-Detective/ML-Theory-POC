{
 "cells": [
  {
   "cell_type": "code",
   "execution_count": 1,
   "metadata": {},
   "outputs": [],
   "source": [
    "import pandas as pd\n",
    "import numpy as np\n",
    "import matplotlib.pyplot as plt\n",
    "import seaborn as sns"
   ]
  },
  {
   "cell_type": "code",
   "execution_count": 2,
   "metadata": {},
   "outputs": [
    {
     "data": {
      "text/plain": [
       "0    573518\n",
       "1     21694\n",
       "Name: target, dtype: int64"
      ]
     },
     "execution_count": 2,
     "metadata": {},
     "output_type": "execute_result"
    }
   ],
   "source": [
    "df = pd.read_csv(\"train.csv\")\n",
    "df['target'].value_counts()"
   ]
  },
  {
   "cell_type": "code",
   "execution_count": 3,
   "metadata": {},
   "outputs": [
    {
     "name": "stdout",
     "output_type": "stream",
     "text": [
      "<class 'pandas.core.frame.DataFrame'>\n",
      "RangeIndex: 595212 entries, 0 to 595211\n",
      "Data columns (total 59 columns):\n",
      "id                595212 non-null int64\n",
      "target            595212 non-null int64\n",
      "ps_ind_01         595212 non-null int64\n",
      "ps_ind_02_cat     595212 non-null int64\n",
      "ps_ind_03         595212 non-null int64\n",
      "ps_ind_04_cat     595212 non-null int64\n",
      "ps_ind_05_cat     595212 non-null int64\n",
      "ps_ind_06_bin     595212 non-null int64\n",
      "ps_ind_07_bin     595212 non-null int64\n",
      "ps_ind_08_bin     595212 non-null int64\n",
      "ps_ind_09_bin     595212 non-null int64\n",
      "ps_ind_10_bin     595212 non-null int64\n",
      "ps_ind_11_bin     595212 non-null int64\n",
      "ps_ind_12_bin     595212 non-null int64\n",
      "ps_ind_13_bin     595212 non-null int64\n",
      "ps_ind_14         595212 non-null int64\n",
      "ps_ind_15         595212 non-null int64\n",
      "ps_ind_16_bin     595212 non-null int64\n",
      "ps_ind_17_bin     595212 non-null int64\n",
      "ps_ind_18_bin     595212 non-null int64\n",
      "ps_reg_01         595212 non-null float64\n",
      "ps_reg_02         595212 non-null float64\n",
      "ps_reg_03         595212 non-null float64\n",
      "ps_car_01_cat     595212 non-null int64\n",
      "ps_car_02_cat     595212 non-null int64\n",
      "ps_car_03_cat     595212 non-null int64\n",
      "ps_car_04_cat     595212 non-null int64\n",
      "ps_car_05_cat     595212 non-null int64\n",
      "ps_car_06_cat     595212 non-null int64\n",
      "ps_car_07_cat     595212 non-null int64\n",
      "ps_car_08_cat     595212 non-null int64\n",
      "ps_car_09_cat     595212 non-null int64\n",
      "ps_car_10_cat     595212 non-null int64\n",
      "ps_car_11_cat     595212 non-null int64\n",
      "ps_car_11         595212 non-null int64\n",
      "ps_car_12         595212 non-null float64\n",
      "ps_car_13         595212 non-null float64\n",
      "ps_car_14         595212 non-null float64\n",
      "ps_car_15         595212 non-null float64\n",
      "ps_calc_01        595212 non-null float64\n",
      "ps_calc_02        595212 non-null float64\n",
      "ps_calc_03        595212 non-null float64\n",
      "ps_calc_04        595212 non-null int64\n",
      "ps_calc_05        595212 non-null int64\n",
      "ps_calc_06        595212 non-null int64\n",
      "ps_calc_07        595212 non-null int64\n",
      "ps_calc_08        595212 non-null int64\n",
      "ps_calc_09        595212 non-null int64\n",
      "ps_calc_10        595212 non-null int64\n",
      "ps_calc_11        595212 non-null int64\n",
      "ps_calc_12        595212 non-null int64\n",
      "ps_calc_13        595212 non-null int64\n",
      "ps_calc_14        595212 non-null int64\n",
      "ps_calc_15_bin    595212 non-null int64\n",
      "ps_calc_16_bin    595212 non-null int64\n",
      "ps_calc_17_bin    595212 non-null int64\n",
      "ps_calc_18_bin    595212 non-null int64\n",
      "ps_calc_19_bin    595212 non-null int64\n",
      "ps_calc_20_bin    595212 non-null int64\n",
      "dtypes: float64(10), int64(49)\n",
      "memory usage: 267.9 MB\n"
     ]
    }
   ],
   "source": [
    "df.info()"
   ]
  },
  {
   "cell_type": "code",
   "execution_count": 4,
   "metadata": {},
   "outputs": [
    {
     "data": {
      "text/plain": [
       "0    0.963552\n",
       "1    0.036448\n",
       "Name: target, dtype: float64"
      ]
     },
     "execution_count": 4,
     "metadata": {},
     "output_type": "execute_result"
    }
   ],
   "source": [
    "df['target'].value_counts(normalize=True)"
   ]
  },
  {
   "cell_type": "code",
   "execution_count": 5,
   "metadata": {},
   "outputs": [
    {
     "name": "stderr",
     "output_type": "stream",
     "text": [
      "C:\\ProgramData\\Anaconda3\\lib\\site-packages\\pandas\\core\\frame.py:4117: SettingWithCopyWarning: \n",
      "A value is trying to be set on a copy of a slice from a DataFrame\n",
      "\n",
      "See the caveats in the documentation: http://pandas.pydata.org/pandas-docs/stable/user_guide/indexing.html#returning-a-view-versus-a-copy\n",
      "  errors=errors,\n"
     ]
    }
   ],
   "source": [
    "df_new = df.iloc[:60000]\n",
    "df_new.drop(columns=['id'],inplace=True)"
   ]
  },
  {
   "cell_type": "code",
   "execution_count": 6,
   "metadata": {},
   "outputs": [
    {
     "data": {
      "text/plain": [
       "0    0.963267\n",
       "1    0.036733\n",
       "Name: target, dtype: float64"
      ]
     },
     "execution_count": 6,
     "metadata": {},
     "output_type": "execute_result"
    }
   ],
   "source": [
    "df_new['target'].value_counts(normalize=True)"
   ]
  },
  {
   "cell_type": "code",
   "execution_count": 7,
   "metadata": {},
   "outputs": [
    {
     "data": {
      "text/plain": [
       "60000"
      ]
     },
     "execution_count": 7,
     "metadata": {},
     "output_type": "execute_result"
    }
   ],
   "source": [
    "df_new.shape[0]"
   ]
  },
  {
   "cell_type": "code",
   "execution_count": 8,
   "metadata": {},
   "outputs": [
    {
     "data": {
      "text/plain": [
       "(60000, 58)"
      ]
     },
     "execution_count": 8,
     "metadata": {},
     "output_type": "execute_result"
    }
   ],
   "source": [
    "df_new['target']\n",
    "df_new.shape"
   ]
  },
  {
   "cell_type": "code",
   "execution_count": 9,
   "metadata": {},
   "outputs": [
    {
     "name": "stderr",
     "output_type": "stream",
     "text": [
      "C:\\ProgramData\\Anaconda3\\lib\\site-packages\\pandas\\core\\frame.py:4278: SettingWithCopyWarning: \n",
      "A value is trying to be set on a copy of a slice from a DataFrame\n",
      "\n",
      "See the caveats in the documentation: http://pandas.pydata.org/pandas-docs/stable/user_guide/indexing.html#returning-a-view-versus-a-copy\n",
      "  method=method,\n"
     ]
    }
   ],
   "source": [
    "df_new.replace(to_replace =-1,value =np.nan,inplace=True)"
   ]
  },
  {
   "cell_type": "code",
   "execution_count": 10,
   "metadata": {},
   "outputs": [
    {
     "data": {
      "text/plain": [
       "ps_car_03_cat     41376\n",
       "ps_car_05_cat     26697\n",
       "ps_reg_03         10976\n",
       "ps_car_14          4304\n",
       "ps_car_07_cat      1098\n",
       "ps_ind_05_cat       560\n",
       "ps_car_09_cat        55\n",
       "ps_ind_02_cat        19\n",
       "ps_ind_04_cat         9\n",
       "ps_car_01_cat         9\n",
       "ps_ind_17_bin         0\n",
       "ps_car_04_cat         0\n",
       "ps_ind_01             0\n",
       "ps_car_02_cat         0\n",
       "ps_reg_02             0\n",
       "ps_ind_03             0\n",
       "ps_reg_01             0\n",
       "ps_ind_18_bin         0\n",
       "ps_ind_16_bin         0\n",
       "ps_ind_15             0\n",
       "ps_car_06_cat         0\n",
       "ps_ind_13_bin         0\n",
       "ps_ind_12_bin         0\n",
       "ps_ind_11_bin         0\n",
       "ps_ind_10_bin         0\n",
       "ps_ind_09_bin         0\n",
       "ps_ind_08_bin         0\n",
       "ps_ind_07_bin         0\n",
       "ps_ind_06_bin         0\n",
       "ps_ind_14             0\n",
       "ps_calc_20_bin        0\n",
       "ps_calc_19_bin        0\n",
       "ps_calc_07            0\n",
       "ps_calc_18_bin        0\n",
       "ps_calc_17_bin        0\n",
       "ps_calc_16_bin        0\n",
       "ps_calc_15_bin        0\n",
       "ps_calc_14            0\n",
       "ps_calc_13            0\n",
       "ps_calc_12            0\n",
       "ps_calc_11            0\n",
       "ps_calc_10            0\n",
       "ps_calc_09            0\n",
       "ps_calc_08            0\n",
       "ps_calc_06            0\n",
       "ps_car_08_cat         0\n",
       "ps_calc_05            0\n",
       "ps_calc_04            0\n",
       "ps_calc_03            0\n",
       "ps_calc_02            0\n",
       "ps_calc_01            0\n",
       "ps_car_15             0\n",
       "ps_car_13             0\n",
       "ps_car_12             0\n",
       "ps_car_11             0\n",
       "ps_car_11_cat         0\n",
       "ps_car_10_cat         0\n",
       "target                0\n",
       "dtype: int64"
      ]
     },
     "execution_count": 10,
     "metadata": {},
     "output_type": "execute_result"
    }
   ],
   "source": [
    "df_new.isnull().sum().sort_values(ascending=False)"
   ]
  },
  {
   "cell_type": "code",
   "execution_count": 11,
   "metadata": {},
   "outputs": [],
   "source": [
    "df_new.drop(columns=['ps_car_03_cat'],inplace=True)"
   ]
  },
  {
   "cell_type": "code",
   "execution_count": 12,
   "metadata": {},
   "outputs": [
    {
     "data": {
      "text/plain": [
       "ps_car_05_cat     26697\n",
       "ps_reg_03         10976\n",
       "ps_car_14          4304\n",
       "ps_car_07_cat      1098\n",
       "ps_ind_05_cat       560\n",
       "ps_car_09_cat        55\n",
       "ps_ind_02_cat        19\n",
       "ps_ind_04_cat         9\n",
       "ps_car_01_cat         9\n",
       "ps_ind_16_bin         0\n",
       "ps_car_04_cat         0\n",
       "ps_car_02_cat         0\n",
       "ps_reg_02             0\n",
       "ps_reg_01             0\n",
       "ps_ind_18_bin         0\n",
       "ps_ind_17_bin         0\n",
       "ps_calc_20_bin        0\n",
       "ps_ind_15             0\n",
       "ps_car_06_cat         0\n",
       "ps_ind_13_bin         0\n",
       "ps_ind_12_bin         0\n",
       "ps_ind_11_bin         0\n",
       "ps_ind_10_bin         0\n",
       "ps_ind_09_bin         0\n",
       "ps_ind_08_bin         0\n",
       "ps_ind_07_bin         0\n",
       "ps_ind_06_bin         0\n",
       "ps_ind_03             0\n",
       "ps_ind_01             0\n",
       "ps_ind_14             0\n",
       "ps_car_08_cat         0\n",
       "ps_calc_19_bin        0\n",
       "ps_car_10_cat         0\n",
       "ps_calc_18_bin        0\n",
       "ps_calc_17_bin        0\n",
       "ps_calc_16_bin        0\n",
       "ps_calc_15_bin        0\n",
       "ps_calc_14            0\n",
       "ps_calc_13            0\n",
       "ps_calc_12            0\n",
       "ps_calc_11            0\n",
       "ps_calc_10            0\n",
       "ps_calc_09            0\n",
       "ps_calc_08            0\n",
       "ps_calc_07            0\n",
       "ps_calc_06            0\n",
       "ps_calc_05            0\n",
       "ps_calc_04            0\n",
       "ps_calc_03            0\n",
       "ps_calc_02            0\n",
       "ps_calc_01            0\n",
       "ps_car_15             0\n",
       "ps_car_13             0\n",
       "ps_car_12             0\n",
       "ps_car_11             0\n",
       "ps_car_11_cat         0\n",
       "target                0\n",
       "dtype: int64"
      ]
     },
     "execution_count": 12,
     "metadata": {},
     "output_type": "execute_result"
    }
   ],
   "source": [
    "df_new.isnull().sum().sort_values(ascending=False)"
   ]
  },
  {
   "cell_type": "code",
   "execution_count": 13,
   "metadata": {},
   "outputs": [
    {
     "name": "stderr",
     "output_type": "stream",
     "text": [
      "C:\\ProgramData\\Anaconda3\\lib\\site-packages\\pandas\\core\\generic.py:6287: SettingWithCopyWarning: \n",
      "A value is trying to be set on a copy of a slice from a DataFrame\n",
      "\n",
      "See the caveats in the documentation: http://pandas.pydata.org/pandas-docs/stable/user_guide/indexing.html#returning-a-view-versus-a-copy\n",
      "  self._update_inplace(new_data)\n"
     ]
    }
   ],
   "source": [
    "for col in df_new.columns.values:\n",
    "    if df_new[col].isnull().sum() != 0:\n",
    "        if '_cat' in col or '_bin' in col:\n",
    "            df_new[col].fillna(df_new[col].mode()[0],inplace=True)\n",
    "        elif df[col].dtype == 'int64':\n",
    "            df_new[col].fillna(df_new[col].mode()[0],inplace=True)\n",
    "        else:\n",
    "            df_new[col].fillna(df_new[col].mean(),inplace=True)"
   ]
  },
  {
   "cell_type": "code",
   "execution_count": 14,
   "metadata": {},
   "outputs": [
    {
     "data": {
      "text/plain": [
       "ps_calc_20_bin    0\n",
       "ps_car_07_cat     0\n",
       "ps_car_05_cat     0\n",
       "ps_car_04_cat     0\n",
       "ps_car_02_cat     0\n",
       "ps_car_01_cat     0\n",
       "ps_reg_03         0\n",
       "ps_reg_02         0\n",
       "ps_reg_01         0\n",
       "ps_ind_18_bin     0\n",
       "ps_ind_17_bin     0\n",
       "ps_ind_16_bin     0\n",
       "ps_ind_15         0\n",
       "ps_ind_14         0\n",
       "ps_ind_13_bin     0\n",
       "ps_ind_12_bin     0\n",
       "ps_ind_11_bin     0\n",
       "ps_ind_10_bin     0\n",
       "ps_ind_09_bin     0\n",
       "ps_ind_08_bin     0\n",
       "ps_ind_07_bin     0\n",
       "ps_ind_06_bin     0\n",
       "ps_ind_05_cat     0\n",
       "ps_ind_04_cat     0\n",
       "ps_ind_03         0\n",
       "ps_ind_02_cat     0\n",
       "ps_ind_01         0\n",
       "ps_car_06_cat     0\n",
       "ps_car_08_cat     0\n",
       "ps_calc_19_bin    0\n",
       "ps_car_09_cat     0\n",
       "ps_calc_18_bin    0\n",
       "ps_calc_17_bin    0\n",
       "ps_calc_16_bin    0\n",
       "ps_calc_15_bin    0\n",
       "ps_calc_14        0\n",
       "ps_calc_13        0\n",
       "ps_calc_12        0\n",
       "ps_calc_11        0\n",
       "ps_calc_10        0\n",
       "ps_calc_09        0\n",
       "ps_calc_08        0\n",
       "ps_calc_07        0\n",
       "ps_calc_06        0\n",
       "ps_calc_05        0\n",
       "ps_calc_04        0\n",
       "ps_calc_03        0\n",
       "ps_calc_02        0\n",
       "ps_calc_01        0\n",
       "ps_car_15         0\n",
       "ps_car_14         0\n",
       "ps_car_13         0\n",
       "ps_car_12         0\n",
       "ps_car_11         0\n",
       "ps_car_11_cat     0\n",
       "ps_car_10_cat     0\n",
       "target            0\n",
       "dtype: int64"
      ]
     },
     "execution_count": 14,
     "metadata": {},
     "output_type": "execute_result"
    }
   ],
   "source": [
    "df_new.isnull().sum().sort_values(ascending=False)"
   ]
  },
  {
   "cell_type": "code",
   "execution_count": 15,
   "metadata": {},
   "outputs": [
    {
     "name": "stdout",
     "output_type": "stream",
     "text": [
      "ps_reg_01\n",
      "ps_reg_02\n",
      "ps_reg_03\n",
      "ps_car_12\n",
      "ps_car_13\n",
      "ps_car_14\n",
      "ps_car_15\n",
      "ps_calc_01\n",
      "ps_calc_02\n",
      "ps_calc_03\n"
     ]
    }
   ],
   "source": [
    "for col in df_new.columns.values:\n",
    "    if df[col].dtype == 'float64' and '_cat' not in col and '_bin' not in col:\n",
    "        print(col)"
   ]
  },
  {
   "cell_type": "code",
   "execution_count": 16,
   "metadata": {},
   "outputs": [],
   "source": [
    "y = df_new['target']\n",
    "\n",
    "X = df_new.drop(columns=['target'])"
   ]
  },
  {
   "cell_type": "markdown",
   "metadata": {},
   "source": [
    "# Imbalance Dataset"
   ]
  },
  {
   "cell_type": "code",
   "execution_count": 17,
   "metadata": {},
   "outputs": [],
   "source": [
    "from imblearn.over_sampling import SMOTE"
   ]
  },
  {
   "cell_type": "code",
   "execution_count": null,
   "metadata": {},
   "outputs": [],
   "source": []
  }
 ],
 "metadata": {
  "kernelspec": {
   "display_name": "Python 3",
   "language": "python",
   "name": "python3"
  },
  "language_info": {
   "codemirror_mode": {
    "name": "ipython",
    "version": 3
   },
   "file_extension": ".py",
   "mimetype": "text/x-python",
   "name": "python",
   "nbconvert_exporter": "python",
   "pygments_lexer": "ipython3",
   "version": "3.7.3"
  }
 },
 "nbformat": 4,
 "nbformat_minor": 2
}
