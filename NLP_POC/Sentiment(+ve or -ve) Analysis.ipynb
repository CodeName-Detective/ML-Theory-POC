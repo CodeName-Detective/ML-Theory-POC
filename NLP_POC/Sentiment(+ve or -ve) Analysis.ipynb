{
 "cells": [
  {
   "cell_type": "code",
   "execution_count": 2,
   "metadata": {},
   "outputs": [
    {
     "name": "stdout",
     "output_type": "stream",
     "text": [
      "                                                Review        Label\n",
      "0     Stuning even for the non-gamer: This sound tr...  __label__2 \n",
      "1     The best soundtrack ever to anything.: I'm re...  __label__2 \n",
      "2     Amazing!: This soundtrack is my favorite musi...  __label__2 \n",
      "3     Excellent Soundtrack: I truly like this sound...  __label__2 \n",
      "4     Remember, Pull Your Jaw Off The Floor After H...  __label__2 \n",
      "5     an absolute masterpiece: I am quite sure any ...  __label__2 \n",
      "6     Buyer beware: This is a self-published book, ...  __label__1 \n",
      "7     Glorious story: I loved Whisper of the wicked...  __label__2 \n",
      "8     A FIVE STAR BOOK: I just finished reading Whi...  __label__2 \n",
      "9     Whispers of the Wicked Saints: This was a eas...  __label__2 \n",
      "10    The Worst!: A complete waste of time. Typogra...  __label__1 \n",
      "11    Great book: This was a great book,I just coul...  __label__2 \n",
      "12    Great Read: I thought this book was brilliant...  __label__2 \n",
      "13    Oh please: I guess you have to be a romance n...  __label__1 \n",
      "14    Awful beyond belief!: I feel I have to write ...  __label__1 \n",
      "15    Don't try to fool us with fake reviews.: It's...  __label__1 \n",
      "16    A romantic zen baseball comedy: When you hear...  __label__2 \n",
      "17    Fashionable Compression Stockings!: After I h...  __label__2 \n",
      "18    Jobst UltraSheer Thigh High: Excellent produc...  __label__2 \n",
      "19    sizes recomended in the size chart are not re...  __label__1 \n",
      "20    mens ultrasheer: This model may be ok for sed...  __label__1 \n",
      "21    Delicious cookie mix: I thought it was funny ...  __label__2 \n",
      "22    Another Abysmal Digital Copy: Rather than scr...  __label__1 \n",
      "23    A fascinating insight into the life of modern...  __label__2 \n",
      "24    i liked this album more then i thought i woul...  __label__2 \n",
      "25    Problem with charging smaller AAAs: I have ha...  __label__1 \n",
      "26    Works, but not as advertised: I bought one of...  __label__1 \n",
      "27    Disappointed: I read the reviews,made my purc...  __label__1 \n",
      "28    Oh dear: I was excited to find a book ostensi...  __label__1 \n",
      "29    Based on the reviews here I bought one and I'...  __label__2 \n",
      "..                                                 ...          ...\n",
      "169   Awesume! BEST BLOCKS EVER!: THIS TOY WAS OUR ...  __label__2 \n",
      "170   keeps his attention: My little boy is just ge...  __label__2 \n",
      "171   Great value.: This set incorporates a lot of ...  __label__2 \n",
      "172   Wonderful but not worth $80.: These are great...  __label__2 \n",
      "173   Worth the investment: This is a great set of ...  __label__2 \n",
      "174   waste off money: this is not waterproof.its G...  __label__1 \n",
      "175   California Exotics Waterproof Delights Blue B...  __label__2 \n",
      "176   small didn't work: It is very small compared ...  __label__1 \n",
      "177   Makes for fascinating reading.: Whale natural...  __label__2 \n",
      "178   Pretty Nifty!: I purchased these for a Hallow...  __label__2 \n",
      "179   Yet another unsubstantiated case....: While I...  __label__1 \n",
      "180   Molly Myers: Molly Myers, in her review of \"M...  __label__1 \n",
      "181   Gardening lawn book: Four pages of the book w...  __label__1 \n",
      "182   It's a knock off.: The official Chrono Trigge...  __label__1 \n",
      "183   Just a few.: These are the handful of tracks ...  __label__1 \n",
      "184   It was \"ok\" but I won't watch it again: I wat...  __label__1 \n",
      "185   Loved it! (P.S. Stephen Colletti is so hot!):...  __label__2 \n",
      "186   mask maker: It was good horrifying never a du...  __label__2 \n",
      "187   mask maker: I liked the film it has what ever...  __label__2 \n",
      "188   NOT the worst American B-Movie: This movie wa...  __label__2 \n",
      "189   MASK OF FAMILIARITY: MASK MAKER takes us down...  __label__1 \n",
      "190   Unmasked..................: Sadly, there is a...  __label__1 \n",
      "191   A museum exhibit inside a book: This book was...  __label__2 \n",
      "192   Great resource for Chinese/Eastern medincine:...  __label__2 \n",
      "193   Why Is This A Good Book?: As someone who has ...  __label__2 \n",
      "194   A Book That Is Worth a Second Look: This book...  __label__2 \n",
      "195   Best game ever: This games makes even amazing...  __label__2 \n",
      "196   Guitar in Absentia: With all due respect to a...  __label__1 \n",
      "197   Stiff and Smells like drying paint: You get w...  __label__1 \n",
      "198   Review of Pillow: This was a joke. I am sendi...  __label__1 \n",
      "\n",
      "[199 rows x 2 columns]\n"
     ]
    }
   ],
   "source": [
    "import pandas as pd\n",
    "import numpy as np\n",
    "from sklearn.model_selection import train_test_split\n",
    "\n",
    "\n",
    "reviews_df= pd.read_csv('Amazon_Reviews.csv')\n",
    "print(reviews_df)\n",
    "\n",
    "reviews_df['Label']=reviews_df['Label'].map({'__label__2 ':1,'__label__1 ':0})\n",
    "\n",
    "y=reviews_df['Label']\n",
    "\n",
    "reviews_df.drop(columns='Label',axis=1,inplace=True)\n",
    "\n",
    "X_train,X_test,y_train,y_test=train_test_split(reviews_df,y,random_state=42,test_size=0.2)\n"
   ]
  },
  {
   "cell_type": "code",
   "execution_count": 8,
   "metadata": {
    "scrolled": false
   },
   "outputs": [],
   "source": [
    "from nltk.corpus import stopwords\n",
    "from nltk.tokenize import RegexpTokenizer\n",
    "from nltk.stem import WordNetLemmatizer,PorterStemmer\n",
    "from sklearn.feature_extraction.text import TfidfVectorizer\n",
    "\n",
    "tokenizer = RegexpTokenizer(r'\\w+')\n",
    "lemmatizer = WordNetLemmatizer()\n",
    "stemmer = PorterStemmer()\n",
    "\n",
    "def preprocessing(review):\n",
    "    final_tokens= ' '\n",
    "    tokens=tokenizer.tokenize(review)\n",
    "    pure_tokens = [token.lower() for token in tokens if token.lower() not in stopwords.words('english')]\n",
    "    lemma_tokens = [lemmatizer.lemmatize(pure_token) for pure_token in pure_tokens]\n",
    "    final_tokens = final_tokens.join(lemma_tokens)\n",
    "    return final_tokens"
   ]
  },
  {
   "cell_type": "code",
   "execution_count": 9,
   "metadata": {},
   "outputs": [
    {
     "name": "stderr",
     "output_type": "stream",
     "text": [
      "C:\\ProgramData\\Anaconda3\\lib\\site-packages\\ipykernel_launcher.py:3: SettingWithCopyWarning: \n",
      "A value is trying to be set on a copy of a slice from a DataFrame.\n",
      "Try using .loc[row_indexer,col_indexer] = value instead\n",
      "\n",
      "See the caveats in the documentation: http://pandas.pydata.org/pandas-docs/stable/indexing.html#indexing-view-versus-copy\n",
      "  This is separate from the ipykernel package so we can avoid doing imports until\n"
     ]
    }
   ],
   "source": [
    "#Preprocessing\n",
    "\n",
    "X_train['Cleaned_text'] = X_train['Review'].apply(preprocessing)"
   ]
  },
  {
   "cell_type": "code",
   "execution_count": 25,
   "metadata": {},
   "outputs": [],
   "source": [
    "vectorizer = TfidfVectorizer(stop_words='english',use_idf=True)\n",
    "vectorizer.fit(X_train['Cleaned_text'])\n",
    "X_trian_TfIdf = vectorizer.transform(X_train['Cleaned_text'])"
   ]
  },
  {
   "cell_type": "code",
   "execution_count": 12,
   "metadata": {},
   "outputs": [
    {
     "data": {
      "text/plain": [
       "MultinomialNB(alpha=1.0, class_prior=None, fit_prior=True)"
      ]
     },
     "execution_count": 12,
     "metadata": {},
     "output_type": "execute_result"
    }
   ],
   "source": [
    "from sklearn.naive_bayes import MultinomialNB,GaussianNB,BernoulliNB\n",
    "\n",
    "clf = MultinomialNB()\n",
    "clf.fit(X_trian_TfIdf.toarray(),y_train)"
   ]
  },
  {
   "cell_type": "code",
   "execution_count": 18,
   "metadata": {},
   "outputs": [
    {
     "name": "stderr",
     "output_type": "stream",
     "text": [
      "C:\\ProgramData\\Anaconda3\\lib\\site-packages\\ipykernel_launcher.py:1: SettingWithCopyWarning: \n",
      "A value is trying to be set on a copy of a slice from a DataFrame.\n",
      "Try using .loc[row_indexer,col_indexer] = value instead\n",
      "\n",
      "See the caveats in the documentation: http://pandas.pydata.org/pandas-docs/stable/indexing.html#indexing-view-versus-copy\n",
      "  \"\"\"Entry point for launching an IPython kernel.\n"
     ]
    }
   ],
   "source": [
    "X_test['Cleaned_text'] = X_test['Review'].apply(preprocessing)\n",
    "X_test_TfIdf = vectorizer.transform(X_test['Cleaned_text'])\n",
    "y_pred = clf.predict(X_test_TfIdf.toarray())"
   ]
  },
  {
   "cell_type": "code",
   "execution_count": 29,
   "metadata": {},
   "outputs": [
    {
     "data": {
      "text/plain": [
       "0.8533333333333333"
      ]
     },
     "execution_count": 29,
     "metadata": {},
     "output_type": "execute_result"
    },
    {
     "data": {
      "image/png": "[encoded data removed]",
      "text/plain": [
       "<Figure size 432x288 with 1 Axes>"
      ]
     },
     "metadata": {
      "needs_background": "light"
     },
     "output_type": "display_data"
    }
   ],
   "source": [
    "from sklearn.metrics import roc_curve,roc_auc_score\n",
    "import matplotlib.pyplot as plt\n",
    "y_nb_proba_pred=clf.predict_proba(X_test_TfIdf.toarray())[::,1]\n",
    "nb_fpr,nb_tpr,nb_thresholds=roc_curve(y_test,y_nb_proba_pred)\n",
    "\n",
    "plt.plot(nb_fpr,nb_tpr)\n",
    "roc_auc_score(y_test,y_nb_proba_pred)"
   ]
  },
  {
   "cell_type": "code",
   "execution_count": 27,
   "metadata": {},
   "outputs": [
    {
     "name": "stderr",
     "output_type": "stream",
     "text": [
      "C:\\ProgramData\\Anaconda3\\lib\\site-packages\\sklearn\\linear_model\\logistic.py:432: FutureWarning: Default solver will be changed to 'lbfgs' in 0.22. Specify a solver to silence this warning.\n",
      "  FutureWarning)\n"
     ]
    },
    {
     "data": {
      "text/plain": [
       "0.8533333333333333"
      ]
     },
     "execution_count": 27,
     "metadata": {},
     "output_type": "execute_result"
    },
    {
     "data": {
      "image/png": "[encoded data removed]",
      "text/plain": [
       "<Figure size 432x288 with 1 Axes>"
      ]
     },
     "metadata": {
      "needs_background": "light"
     },
     "output_type": "display_data"
    }
   ],
   "source": [
    "from sklearn.linear_model import  LogisticRegression\n",
    "\n",
    "logit=LogisticRegression()\n",
    "logit.fit(X_trian_TfIdf.toarray(),y_train)\n",
    "y_logistic_pred=logit.predict(X_test_TfIdf)\n",
    "\n",
    "y_logistic_proba_pred=logit.predict_proba(X_test_TfIdf.toarray())[::,1]\n",
    "\n",
    "log_fpr,log_tpr,log_thresholds=roc_curve(y_test,y_logistic_proba_pred)\n",
    "\n",
    "plt.plot(log_fpr,log_tpr)\n",
    "\n",
    "roc_auc_score(y_test,y_logistic_proba_pred)\n"
   ]
  },
  {
   "cell_type": "code",
   "execution_count": 28,
   "metadata": {},
   "outputs": [
    {
     "name": "stderr",
     "output_type": "stream",
     "text": [
      "C:\\ProgramData\\Anaconda3\\lib\\site-packages\\sklearn\\ensemble\\forest.py:245: FutureWarning: The default value of n_estimators will change from 10 in version 0.20 to 100 in 0.22.\n",
      "  \"10 in version 0.20 to 100 in 0.22.\", FutureWarning)\n"
     ]
    },
    {
     "data": {
      "text/plain": [
       "0.7493333333333334"
      ]
     },
     "execution_count": 28,
     "metadata": {},
     "output_type": "execute_result"
    },
    {
     "data": {
      "image/png": "[encoded data removed]",
      "text/plain": [
       "<Figure size 432x288 with 1 Axes>"
      ]
     },
     "metadata": {
      "needs_background": "light"
     },
     "output_type": "display_data"
    }
   ],
   "source": [
    "from sklearn.ensemble import RandomForestClassifier\n",
    "\n",
    "rfc = RandomForestClassifier()\n",
    "\n",
    "rfc.fit(X_trian_TfIdf.toarray(),y_train)\n",
    "y_rfc_pred = rfc.predict(X_test_TfIdf.toarray())\n",
    "y_rfc_proba_pred=rfc.predict_proba(X_test_TfIdf.toarray())[::,1]\n",
    "\n",
    "rfc_fpr,rfc_tpr,rfc_thresholds=roc_curve(y_test,y_rfc_proba_pred)\n",
    "\n",
    "plt.plot(rfc_fpr,rfc_tpr)\n",
    "\n",
    "roc_auc_score(y_test,y_rfc_proba_pred)\n"
   ]
  },
  {
   "cell_type": "code",
   "execution_count": 30,
   "metadata": {},
   "outputs": [
    {
     "data": {
      "text/plain": [
       "0.7533333333333333"
      ]
     },
     "execution_count": 30,
     "metadata": {},
     "output_type": "execute_result"
    },
    {
     "data": {
      "image/png": "[encoded data removed]",
      "text/plain": [
       "<Figure size 432x288 with 1 Axes>"
      ]
     },
     "metadata": {
      "needs_background": "light"
     },
     "output_type": "display_data"
    }
   ],
   "source": [
    "from sklearn.ensemble import GradientBoostingClassifier\n",
    "\n",
    "gbc = GradientBoostingClassifier()\n",
    "\n",
    "gbc.fit(X_trian_TfIdf.toarray(),y_train)\n",
    "y_gbc_pred = gbc.predict(X_test_TfIdf.toarray())\n",
    "y_gbc_proba_pred=gbc.predict_proba(X_test_TfIdf.toarray())[::,1]\n",
    "\n",
    "gbc_fpr,gbc_tpr,gbc_thresholds=roc_curve(y_test,y_gbc_proba_pred)\n",
    "\n",
    "plt.plot(gbc_fpr,gbc_tpr)\n",
    "\n",
    "roc_auc_score(y_test,y_gbc_proba_pred)"
   ]
  },
  {
   "cell_type": "code",
   "execution_count": null,
   "metadata": {},
   "outputs": [],
   "source": []
  }
 ],
 "metadata": {
  "kernelspec": {
   "display_name": "Python 3",
   "language": "python",
   "name": "python3"
  },
  "language_info": {
   "codemirror_mode": {
    "name": "ipython",
    "version": 3
   },
   "file_extension": ".py",
   "mimetype": "text/x-python",
   "name": "python",
   "nbconvert_exporter": "python",
   "pygments_lexer": "ipython3",
   "version": "3.7.3"
  }
 },
 "nbformat": 4,
 "nbformat_minor": 2
}
